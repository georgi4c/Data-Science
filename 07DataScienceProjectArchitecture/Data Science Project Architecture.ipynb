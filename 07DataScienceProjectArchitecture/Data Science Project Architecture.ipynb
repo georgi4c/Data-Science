{
 "cells": [
  {
   "cell_type": "code",
   "execution_count": 1,
   "metadata": {},
   "outputs": [],
   "source": [
    "%matplotlib inline"
   ]
  },
  {
   "cell_type": "code",
   "execution_count": 78,
   "metadata": {},
   "outputs": [],
   "source": [
    "import numpy as np\n",
    "import pandas as pd\n",
    "import matplotlib.pyplot as plt\n",
    "\n",
    "import math\n",
    "\n",
    "from sklearn.linear_model import LinearRegression"
   ]
  },
  {
   "cell_type": "markdown",
   "metadata": {},
   "source": [
    "# Data Science Project Architecture\n",
    "## Live Demos"
   ]
  },
  {
   "cell_type": "code",
   "execution_count": 3,
   "metadata": {},
   "outputs": [
    {
     "name": "stdout",
     "output_type": "stream",
     "text": [
      "The Zen of Python, by Tim Peters\n",
      "\n",
      "Beautiful is better than ugly.\n",
      "Explicit is better than implicit.\n",
      "Simple is better than complex.\n",
      "Complex is better than complicated.\n",
      "Flat is better than nested.\n",
      "Sparse is better than dense.\n",
      "Readability counts.\n",
      "Special cases aren't special enough to break the rules.\n",
      "Although practicality beats purity.\n",
      "Errors should never pass silently.\n",
      "Unless explicitly silenced.\n",
      "In the face of ambiguity, refuse the temptation to guess.\n",
      "There should be one-- and preferably only one --obvious way to do it.\n",
      "Although that way may not be obvious at first unless you're Dutch.\n",
      "Now is better than never.\n",
      "Although never is often better than *right* now.\n",
      "If the implementation is hard to explain, it's a bad idea.\n",
      "If the implementation is easy to explain, it may be a good idea.\n",
      "Namespaces are one honking great idea -- let's do more of those!\n"
     ]
    }
   ],
   "source": [
    "import this"
   ]
  },
  {
   "cell_type": "code",
   "execution_count": 4,
   "metadata": {},
   "outputs": [],
   "source": [
    "my_sum = 40 + 2"
   ]
  },
  {
   "cell_type": "code",
   "execution_count": 5,
   "metadata": {},
   "outputs": [
    {
     "data": {
      "text/plain": [
       "42"
      ]
     },
     "execution_count": 5,
     "metadata": {},
     "output_type": "execute_result"
    }
   ],
   "source": [
    "my_sum"
   ]
  },
  {
   "cell_type": "code",
   "execution_count": 6,
   "metadata": {},
   "outputs": [],
   "source": [
    "# x = users.count()\n",
    "# # Add one more user\n",
    "# x = x + 1"
   ]
  },
  {
   "cell_type": "code",
   "execution_count": 7,
   "metadata": {},
   "outputs": [],
   "source": [
    "def say_hello(name):\n",
    "    \"\"\"\n",
    "    Greets a person by name.\n",
    "    \n",
    "    Parameters:\n",
    "    * name: string, the name of the person.\n",
    "    \n",
    "    Returns:\n",
    "    Returns a greeting which includes the person's name.\n",
    "    \"\"\"\n",
    "    return f\"Hello, {name}!\""
   ]
  },
  {
   "cell_type": "code",
   "execution_count": 8,
   "metadata": {},
   "outputs": [
    {
     "data": {
      "text/plain": [
       "'Hello, Yordan!'"
      ]
     },
     "execution_count": 8,
     "metadata": {},
     "output_type": "execute_result"
    }
   ],
   "source": [
    "say_hello(\"Yordan\")"
   ]
  },
  {
   "cell_type": "code",
   "execution_count": 9,
   "metadata": {
    "scrolled": true
   },
   "outputs": [
    {
     "data": {
      "text/plain": [
       "'Hello, Pesho!'"
      ]
     },
     "execution_count": 9,
     "metadata": {},
     "output_type": "execute_result"
    }
   ],
   "source": [
    "say_hello(\"Pesho\")"
   ]
  },
  {
   "cell_type": "code",
   "execution_count": 10,
   "metadata": {},
   "outputs": [],
   "source": [
    "x = np.random.uniform(1, 5, 200)"
   ]
  },
  {
   "cell_type": "code",
   "execution_count": 11,
   "metadata": {},
   "outputs": [],
   "source": [
    "x_bar = 1 / len(x) * sum(x)"
   ]
  },
  {
   "cell_type": "code",
   "execution_count": 12,
   "metadata": {},
   "outputs": [
    {
     "data": {
      "text/plain": [
       "3.0398111640761822"
      ]
     },
     "execution_count": 12,
     "metadata": {},
     "output_type": "execute_result"
    }
   ],
   "source": [
    "x_bar"
   ]
  },
  {
   "cell_type": "code",
   "execution_count": 13,
   "metadata": {},
   "outputs": [],
   "source": [
    "n = len(x)\n",
    "sum_x = sum(x)\n",
    "mean_x = 1 / n * sum(x)"
   ]
  },
  {
   "cell_type": "code",
   "execution_count": 14,
   "metadata": {},
   "outputs": [
    {
     "data": {
      "text/plain": [
       "3.0398111640761822"
      ]
     },
     "execution_count": 14,
     "metadata": {},
     "output_type": "execute_result"
    }
   ],
   "source": [
    "mean_x"
   ]
  },
  {
   "cell_type": "code",
   "execution_count": 20,
   "metadata": {},
   "outputs": [],
   "source": [
    "THE_ANSWER = 42"
   ]
  },
  {
   "cell_type": "code",
   "execution_count": 22,
   "metadata": {},
   "outputs": [
    {
     "data": {
      "text/plain": [
       "42"
      ]
     },
     "execution_count": 22,
     "metadata": {},
     "output_type": "execute_result"
    }
   ],
   "source": [
    "THE_ANSWER"
   ]
  },
  {
   "cell_type": "code",
   "execution_count": 25,
   "metadata": {},
   "outputs": [],
   "source": [
    "PI = 3.1415926\n",
    "PATH_TO_DATASET = \"data/adult.csv\""
   ]
  },
  {
   "cell_type": "code",
   "execution_count": null,
   "metadata": {},
   "outputs": [],
   "source": [
    "pd.read_csv(PATH_TO_DATASET)"
   ]
  },
  {
   "cell_type": "code",
   "execution_count": 26,
   "metadata": {},
   "outputs": [],
   "source": [
    "_cant_touch_this = \"Ice ice baby\""
   ]
  },
  {
   "cell_type": "code",
   "execution_count": 27,
   "metadata": {},
   "outputs": [
    {
     "data": {
      "text/plain": [
       "'Ice ice baby'"
      ]
     },
     "execution_count": 27,
     "metadata": {},
     "output_type": "execute_result"
    }
   ],
   "source": [
    "_cant_touch_this"
   ]
  },
  {
   "cell_type": "code",
   "execution_count": 30,
   "metadata": {},
   "outputs": [
    {
     "data": {
      "text/plain": [
       "200"
      ]
     },
     "execution_count": 30,
     "metadata": {},
     "output_type": "execute_result"
    }
   ],
   "source": [
    "x.__len__()"
   ]
  },
  {
   "cell_type": "code",
   "execution_count": 31,
   "metadata": {},
   "outputs": [
    {
     "data": {
      "text/plain": [
       "200"
      ]
     },
     "execution_count": 31,
     "metadata": {},
     "output_type": "execute_result"
    }
   ],
   "source": [
    "len(x)"
   ]
  },
  {
   "cell_type": "code",
   "execution_count": 34,
   "metadata": {},
   "outputs": [
    {
     "name": "stdout",
     "output_type": "stream",
     "text": [
      "\n",
      "NumPy\n",
      "=====\n",
      "\n",
      "Provides\n",
      "  1. An array object of arbitrary homogeneous items\n",
      "  2. Fast mathematical operations over arrays\n",
      "  3. Linear Algebra, Fourier Transforms, Random Number Generation\n",
      "\n",
      "How to use the documentation\n",
      "----------------------------\n",
      "Documentation is available in two forms: docstrings provided\n",
      "with the code, and a loose standing reference guide, available from\n",
      "`the NumPy homepage <https://www.scipy.org>`_.\n",
      "\n",
      "We recommend exploring the docstrings using\n",
      "`IPython <https://ipython.org>`_, an advanced Python shell with\n",
      "TAB-completion and introspection capabilities.  See below for further\n",
      "instructions.\n",
      "\n",
      "The docstring examples assume that `numpy` has been imported as `np`::\n",
      "\n",
      "  >>> import numpy as np\n",
      "\n",
      "Code snippets are indicated by three greater-than signs::\n",
      "\n",
      "  >>> x = 42\n",
      "  >>> x = x + 1\n",
      "\n",
      "Use the built-in ``help`` function to view a function's docstring::\n",
      "\n",
      "  >>> help(np.sort)\n",
      "  ... # doctest: +SKIP\n",
      "\n",
      "For some objects, ``np.info(obj)`` may provide additional help.  This is\n",
      "particularly true if you see the line \"Help on ufunc object:\" at the top\n",
      "of the help() page.  Ufuncs are implemented in C, not Python, for speed.\n",
      "The native Python help() does not know how to view their help, but our\n",
      "np.info() function does.\n",
      "\n",
      "To search for documents containing a keyword, do::\n",
      "\n",
      "  >>> np.lookfor('keyword')\n",
      "  ... # doctest: +SKIP\n",
      "\n",
      "General-purpose documents like a glossary and help on the basic concepts\n",
      "of numpy are available under the ``doc`` sub-module::\n",
      "\n",
      "  >>> from numpy import doc\n",
      "  >>> help(doc)\n",
      "  ... # doctest: +SKIP\n",
      "\n",
      "Available subpackages\n",
      "---------------------\n",
      "doc\n",
      "    Topical documentation on broadcasting, indexing, etc.\n",
      "lib\n",
      "    Basic functions used by several sub-packages.\n",
      "random\n",
      "    Core Random Tools\n",
      "linalg\n",
      "    Core Linear Algebra Tools\n",
      "fft\n",
      "    Core FFT routines\n",
      "polynomial\n",
      "    Polynomial tools\n",
      "testing\n",
      "    NumPy testing tools\n",
      "f2py\n",
      "    Fortran to Python Interface Generator.\n",
      "distutils\n",
      "    Enhancements to distutils with support for\n",
      "    Fortran compilers support and more.\n",
      "\n",
      "Utilities\n",
      "---------\n",
      "test\n",
      "    Run numpy unittests\n",
      "show_config\n",
      "    Show numpy build configuration\n",
      "dual\n",
      "    Overwrite certain functions with high-performance Scipy tools\n",
      "matlib\n",
      "    Make everything matrices.\n",
      "__version__\n",
      "    NumPy version string\n",
      "\n",
      "Viewing documentation using IPython\n",
      "-----------------------------------\n",
      "Start IPython with the NumPy profile (``ipython -p numpy``), which will\n",
      "import `numpy` under the alias `np`.  Then, use the ``cpaste`` command to\n",
      "paste examples into the shell.  To see which functions are available in\n",
      "`numpy`, type ``np.<TAB>`` (where ``<TAB>`` refers to the TAB key), or use\n",
      "``np.*cos*?<ENTER>`` (where ``<ENTER>`` refers to the ENTER key) to narrow\n",
      "down the list.  To view the docstring for a function, use\n",
      "``np.cos?<ENTER>`` (to view the docstring) and ``np.cos??<ENTER>`` (to view\n",
      "the source code).\n",
      "\n",
      "Copies vs. in-place operation\n",
      "-----------------------------\n",
      "Most of the functions in `numpy` return a copy of the array argument\n",
      "(e.g., `np.sort`).  In-place versions of these functions are often\n",
      "available as array methods, i.e. ``x = np.array([1,2,3]); x.sort()``.\n",
      "Exceptions to this rule are documented.\n",
      "\n",
      "\n"
     ]
    }
   ],
   "source": [
    "print(np.__doc__)"
   ]
  },
  {
   "cell_type": "code",
   "execution_count": 36,
   "metadata": {},
   "outputs": [
    {
     "name": "stdout",
     "output_type": "stream",
     "text": [
      "\n",
      "    Greets a person by name.\n",
      "    \n",
      "    Parameters:\n",
      "    * name: string, the name of the person.\n",
      "    \n",
      "    Returns:\n",
      "    Returns a greeting which includes the person's name.\n",
      "    \n"
     ]
    }
   ],
   "source": [
    "print(say_hello.__doc__)"
   ]
  },
  {
   "cell_type": "code",
   "execution_count": 37,
   "metadata": {},
   "outputs": [
    {
     "data": {
      "text/plain": [
       "'array([1.59237657, 1.64354258, 4.4269018 , 4.52160892, 3.08306699,\\n       4.99018769, 4.2433805 , 2.66881433, 4.00916361, 3.98806032,\\n       3.44878836, 3.91713527, 3.12801313, 2.04565508, 1.0270813 ,\\n       4.86819612, 3.9892273 , 2.30150967, 3.6050835 , 2.6112314 ,\\n       3.15238807, 2.43840087, 2.21686466, 3.58650014, 3.65326058,\\n       2.55441195, 4.17926955, 1.90343235, 2.81467025, 1.61169858,\\n       1.92464782, 4.46093081, 1.4359328 , 4.21458546, 1.7230883 ,\\n       2.23357072, 4.35921348, 2.6760486 , 4.53118633, 3.8729552 ,\\n       4.40571642, 2.90738531, 3.60799502, 1.18598608, 1.34782166,\\n       3.87309298, 1.00659627, 3.32524572, 4.46224711, 4.66386803,\\n       1.19916271, 3.59978625, 3.08206815, 3.19000922, 4.85665916,\\n       3.22172384, 3.83947203, 3.42857461, 2.77936096, 4.26067387,\\n       1.36718797, 2.13583723, 4.51636972, 1.63579249, 2.79901408,\\n       4.388058  , 1.83823073, 3.11522165, 4.72781001, 1.49962984,\\n       3.20779907, 3.15708591, 4.5167607 , 2.98028101, 1.51314375,\\n       3.16620368, 1.8751102 , 1.334161  , 3.03829113, 2.80319142,\\n       2.95653883, 2.05069719, 2.85434186, 1.96881515, 3.63235894,\\n       1.46179437, 4.47363695, 3.87440498, 2.18786962, 1.06930313,\\n       3.17105014, 3.55688888, 4.25252269, 2.06569779, 1.14809084,\\n       2.762547  , 1.59871466, 2.03343711, 1.81603252, 4.95677154,\\n       2.68914317, 4.65033684, 1.55201832, 4.8094937 , 1.45296507,\\n       3.68242646, 1.76259945, 4.17289629, 4.63728445, 4.89947859,\\n       1.34353978, 2.12125339, 1.47932832, 4.66961075, 2.00431444,\\n       4.05421876, 3.27044695, 4.20926296, 3.09511679, 2.55538575,\\n       2.77086473, 3.91959137, 1.18203331, 2.62304525, 4.72276621,\\n       1.90365497, 4.63830446, 3.25275827, 1.03277604, 4.19650848,\\n       2.75886258, 3.11611823, 4.57272431, 1.48931586, 1.30190151,\\n       4.67177381, 3.40256413, 2.42450567, 3.38650185, 1.74970283,\\n       3.06897922, 3.66990894, 2.5625985 , 4.89327092, 2.9079552 ,\\n       3.75215802, 3.71625712, 2.98222479, 2.88214839, 1.7330503 ,\\n       3.87017181, 4.19771789, 2.13567184, 2.68081612, 1.1880183 ,\\n       2.40876736, 1.70099927, 4.44272978, 1.56965575, 3.01272312,\\n       4.65397684, 2.19378525, 4.81606717, 3.46416009, 1.80059649,\\n       4.42466728, 4.82447477, 1.62918063, 4.43585288, 4.7015574 ,\\n       1.58125166, 4.19243078, 4.70609728, 4.07218795, 4.68738282,\\n       3.44169812, 3.1338812 , 1.43534258, 3.24799763, 3.69668435,\\n       3.47472004, 4.44239609, 3.18421109, 4.29861025, 3.66640997,\\n       2.87787377, 1.40195891, 1.38739013, 3.61354682, 1.00422592,\\n       2.69508182, 3.31412562, 3.11410993, 1.58243592, 1.05697473,\\n       1.67858921, 2.19506895, 3.31715649, 3.72653298, 3.78610405])'"
      ]
     },
     "execution_count": 37,
     "metadata": {},
     "output_type": "execute_result"
    }
   ],
   "source": [
    "x.__repr__()"
   ]
  },
  {
   "cell_type": "code",
   "execution_count": 39,
   "metadata": {},
   "outputs": [
    {
     "data": {
      "text/plain": [
       "'[1.59237657 1.64354258 4.4269018  4.52160892 3.08306699 4.99018769\\n 4.2433805  2.66881433 4.00916361 3.98806032 3.44878836 3.91713527\\n 3.12801313 2.04565508 1.0270813  4.86819612 3.9892273  2.30150967\\n 3.6050835  2.6112314  3.15238807 2.43840087 2.21686466 3.58650014\\n 3.65326058 2.55441195 4.17926955 1.90343235 2.81467025 1.61169858\\n 1.92464782 4.46093081 1.4359328  4.21458546 1.7230883  2.23357072\\n 4.35921348 2.6760486  4.53118633 3.8729552  4.40571642 2.90738531\\n 3.60799502 1.18598608 1.34782166 3.87309298 1.00659627 3.32524572\\n 4.46224711 4.66386803 1.19916271 3.59978625 3.08206815 3.19000922\\n 4.85665916 3.22172384 3.83947203 3.42857461 2.77936096 4.26067387\\n 1.36718797 2.13583723 4.51636972 1.63579249 2.79901408 4.388058\\n 1.83823073 3.11522165 4.72781001 1.49962984 3.20779907 3.15708591\\n 4.5167607  2.98028101 1.51314375 3.16620368 1.8751102  1.334161\\n 3.03829113 2.80319142 2.95653883 2.05069719 2.85434186 1.96881515\\n 3.63235894 1.46179437 4.47363695 3.87440498 2.18786962 1.06930313\\n 3.17105014 3.55688888 4.25252269 2.06569779 1.14809084 2.762547\\n 1.59871466 2.03343711 1.81603252 4.95677154 2.68914317 4.65033684\\n 1.55201832 4.8094937  1.45296507 3.68242646 1.76259945 4.17289629\\n 4.63728445 4.89947859 1.34353978 2.12125339 1.47932832 4.66961075\\n 2.00431444 4.05421876 3.27044695 4.20926296 3.09511679 2.55538575\\n 2.77086473 3.91959137 1.18203331 2.62304525 4.72276621 1.90365497\\n 4.63830446 3.25275827 1.03277604 4.19650848 2.75886258 3.11611823\\n 4.57272431 1.48931586 1.30190151 4.67177381 3.40256413 2.42450567\\n 3.38650185 1.74970283 3.06897922 3.66990894 2.5625985  4.89327092\\n 2.9079552  3.75215802 3.71625712 2.98222479 2.88214839 1.7330503\\n 3.87017181 4.19771789 2.13567184 2.68081612 1.1880183  2.40876736\\n 1.70099927 4.44272978 1.56965575 3.01272312 4.65397684 2.19378525\\n 4.81606717 3.46416009 1.80059649 4.42466728 4.82447477 1.62918063\\n 4.43585288 4.7015574  1.58125166 4.19243078 4.70609728 4.07218795\\n 4.68738282 3.44169812 3.1338812  1.43534258 3.24799763 3.69668435\\n 3.47472004 4.44239609 3.18421109 4.29861025 3.66640997 2.87787377\\n 1.40195891 1.38739013 3.61354682 1.00422592 2.69508182 3.31412562\\n 3.11410993 1.58243592 1.05697473 1.67858921 2.19506895 3.31715649\\n 3.72653298 3.78610405]'"
      ]
     },
     "execution_count": 39,
     "metadata": {},
     "output_type": "execute_result"
    }
   ],
   "source": [
    "x.__str__()"
   ]
  },
  {
   "cell_type": "code",
   "execution_count": 40,
   "metadata": {},
   "outputs": [
    {
     "data": {
      "text/plain": [
       "'[1.59237657 1.64354258 4.4269018  4.52160892 3.08306699 4.99018769\\n 4.2433805  2.66881433 4.00916361 3.98806032 3.44878836 3.91713527\\n 3.12801313 2.04565508 1.0270813  4.86819612 3.9892273  2.30150967\\n 3.6050835  2.6112314  3.15238807 2.43840087 2.21686466 3.58650014\\n 3.65326058 2.55441195 4.17926955 1.90343235 2.81467025 1.61169858\\n 1.92464782 4.46093081 1.4359328  4.21458546 1.7230883  2.23357072\\n 4.35921348 2.6760486  4.53118633 3.8729552  4.40571642 2.90738531\\n 3.60799502 1.18598608 1.34782166 3.87309298 1.00659627 3.32524572\\n 4.46224711 4.66386803 1.19916271 3.59978625 3.08206815 3.19000922\\n 4.85665916 3.22172384 3.83947203 3.42857461 2.77936096 4.26067387\\n 1.36718797 2.13583723 4.51636972 1.63579249 2.79901408 4.388058\\n 1.83823073 3.11522165 4.72781001 1.49962984 3.20779907 3.15708591\\n 4.5167607  2.98028101 1.51314375 3.16620368 1.8751102  1.334161\\n 3.03829113 2.80319142 2.95653883 2.05069719 2.85434186 1.96881515\\n 3.63235894 1.46179437 4.47363695 3.87440498 2.18786962 1.06930313\\n 3.17105014 3.55688888 4.25252269 2.06569779 1.14809084 2.762547\\n 1.59871466 2.03343711 1.81603252 4.95677154 2.68914317 4.65033684\\n 1.55201832 4.8094937  1.45296507 3.68242646 1.76259945 4.17289629\\n 4.63728445 4.89947859 1.34353978 2.12125339 1.47932832 4.66961075\\n 2.00431444 4.05421876 3.27044695 4.20926296 3.09511679 2.55538575\\n 2.77086473 3.91959137 1.18203331 2.62304525 4.72276621 1.90365497\\n 4.63830446 3.25275827 1.03277604 4.19650848 2.75886258 3.11611823\\n 4.57272431 1.48931586 1.30190151 4.67177381 3.40256413 2.42450567\\n 3.38650185 1.74970283 3.06897922 3.66990894 2.5625985  4.89327092\\n 2.9079552  3.75215802 3.71625712 2.98222479 2.88214839 1.7330503\\n 3.87017181 4.19771789 2.13567184 2.68081612 1.1880183  2.40876736\\n 1.70099927 4.44272978 1.56965575 3.01272312 4.65397684 2.19378525\\n 4.81606717 3.46416009 1.80059649 4.42466728 4.82447477 1.62918063\\n 4.43585288 4.7015574  1.58125166 4.19243078 4.70609728 4.07218795\\n 4.68738282 3.44169812 3.1338812  1.43534258 3.24799763 3.69668435\\n 3.47472004 4.44239609 3.18421109 4.29861025 3.66640997 2.87787377\\n 1.40195891 1.38739013 3.61354682 1.00422592 2.69508182 3.31412562\\n 3.11410993 1.58243592 1.05697473 1.67858921 2.19506895 3.31715649\\n 3.72653298 3.78610405]'"
      ]
     },
     "execution_count": 40,
     "metadata": {},
     "output_type": "execute_result"
    }
   ],
   "source": [
    "str(x)"
   ]
  },
  {
   "cell_type": "code",
   "execution_count": 45,
   "metadata": {},
   "outputs": [
    {
     "ename": "AttributeError",
     "evalue": "'numpy.ndarray' object attribute '__len__' is read-only",
     "output_type": "error",
     "traceback": [
      "\u001b[1;31m---------------------------------------------------------------------------\u001b[0m",
      "\u001b[1;31mAttributeError\u001b[0m                            Traceback (most recent call last)",
      "\u001b[1;32m<ipython-input-45-7de32510d647>\u001b[0m in \u001b[0;36m<module>\u001b[1;34m\u001b[0m\n\u001b[1;32m----> 1\u001b[1;33m \u001b[0mx\u001b[0m\u001b[1;33m.\u001b[0m\u001b[0m__len__\u001b[0m \u001b[1;33m=\u001b[0m \u001b[1;32mlambda\u001b[0m \u001b[0ma\u001b[0m\u001b[1;33m:\u001b[0m \u001b[1;33m-\u001b[0m\u001b[1;36m1\u001b[0m\u001b[1;33m\u001b[0m\u001b[1;33m\u001b[0m\u001b[0m\n\u001b[0m",
      "\u001b[1;31mAttributeError\u001b[0m: 'numpy.ndarray' object attribute '__len__' is read-only"
     ]
    }
   ],
   "source": [
    "x.__len__ = lambda a: -1"
   ]
  },
  {
   "cell_type": "code",
   "execution_count": 46,
   "metadata": {},
   "outputs": [],
   "source": [
    "# dunder => Double UNDERscore            __str__, __doc__"
   ]
  },
  {
   "cell_type": "code",
   "execution_count": 47,
   "metadata": {},
   "outputs": [
    {
     "data": {
      "text/plain": [
       "['T',\n",
       " '__abs__',\n",
       " '__add__',\n",
       " '__and__',\n",
       " '__array__',\n",
       " '__array_finalize__',\n",
       " '__array_function__',\n",
       " '__array_interface__',\n",
       " '__array_prepare__',\n",
       " '__array_priority__',\n",
       " '__array_struct__',\n",
       " '__array_ufunc__',\n",
       " '__array_wrap__',\n",
       " '__bool__',\n",
       " '__class__',\n",
       " '__complex__',\n",
       " '__contains__',\n",
       " '__copy__',\n",
       " '__deepcopy__',\n",
       " '__delattr__',\n",
       " '__delitem__',\n",
       " '__dir__',\n",
       " '__divmod__',\n",
       " '__doc__',\n",
       " '__eq__',\n",
       " '__float__',\n",
       " '__floordiv__',\n",
       " '__format__',\n",
       " '__ge__',\n",
       " '__getattribute__',\n",
       " '__getitem__',\n",
       " '__gt__',\n",
       " '__hash__',\n",
       " '__iadd__',\n",
       " '__iand__',\n",
       " '__ifloordiv__',\n",
       " '__ilshift__',\n",
       " '__imatmul__',\n",
       " '__imod__',\n",
       " '__imul__',\n",
       " '__index__',\n",
       " '__init__',\n",
       " '__init_subclass__',\n",
       " '__int__',\n",
       " '__invert__',\n",
       " '__ior__',\n",
       " '__ipow__',\n",
       " '__irshift__',\n",
       " '__isub__',\n",
       " '__iter__',\n",
       " '__itruediv__',\n",
       " '__ixor__',\n",
       " '__le__',\n",
       " '__len__',\n",
       " '__lshift__',\n",
       " '__lt__',\n",
       " '__matmul__',\n",
       " '__mod__',\n",
       " '__mul__',\n",
       " '__ne__',\n",
       " '__neg__',\n",
       " '__new__',\n",
       " '__or__',\n",
       " '__pos__',\n",
       " '__pow__',\n",
       " '__radd__',\n",
       " '__rand__',\n",
       " '__rdivmod__',\n",
       " '__reduce__',\n",
       " '__reduce_ex__',\n",
       " '__repr__',\n",
       " '__rfloordiv__',\n",
       " '__rlshift__',\n",
       " '__rmatmul__',\n",
       " '__rmod__',\n",
       " '__rmul__',\n",
       " '__ror__',\n",
       " '__rpow__',\n",
       " '__rrshift__',\n",
       " '__rshift__',\n",
       " '__rsub__',\n",
       " '__rtruediv__',\n",
       " '__rxor__',\n",
       " '__setattr__',\n",
       " '__setitem__',\n",
       " '__setstate__',\n",
       " '__sizeof__',\n",
       " '__str__',\n",
       " '__sub__',\n",
       " '__subclasshook__',\n",
       " '__truediv__',\n",
       " '__xor__',\n",
       " 'all',\n",
       " 'any',\n",
       " 'argmax',\n",
       " 'argmin',\n",
       " 'argpartition',\n",
       " 'argsort',\n",
       " 'astype',\n",
       " 'base',\n",
       " 'byteswap',\n",
       " 'choose',\n",
       " 'clip',\n",
       " 'compress',\n",
       " 'conj',\n",
       " 'conjugate',\n",
       " 'copy',\n",
       " 'ctypes',\n",
       " 'cumprod',\n",
       " 'cumsum',\n",
       " 'data',\n",
       " 'diagonal',\n",
       " 'dot',\n",
       " 'dtype',\n",
       " 'dump',\n",
       " 'dumps',\n",
       " 'fill',\n",
       " 'flags',\n",
       " 'flat',\n",
       " 'flatten',\n",
       " 'getfield',\n",
       " 'imag',\n",
       " 'item',\n",
       " 'itemset',\n",
       " 'itemsize',\n",
       " 'max',\n",
       " 'mean',\n",
       " 'min',\n",
       " 'nbytes',\n",
       " 'ndim',\n",
       " 'newbyteorder',\n",
       " 'nonzero',\n",
       " 'partition',\n",
       " 'prod',\n",
       " 'ptp',\n",
       " 'put',\n",
       " 'ravel',\n",
       " 'real',\n",
       " 'repeat',\n",
       " 'reshape',\n",
       " 'resize',\n",
       " 'round',\n",
       " 'searchsorted',\n",
       " 'setfield',\n",
       " 'setflags',\n",
       " 'shape',\n",
       " 'size',\n",
       " 'sort',\n",
       " 'squeeze',\n",
       " 'std',\n",
       " 'strides',\n",
       " 'sum',\n",
       " 'swapaxes',\n",
       " 'take',\n",
       " 'tobytes',\n",
       " 'tofile',\n",
       " 'tolist',\n",
       " 'tostring',\n",
       " 'trace',\n",
       " 'transpose',\n",
       " 'var',\n",
       " 'view']"
      ]
     },
     "execution_count": 47,
     "metadata": {},
     "output_type": "execute_result"
    }
   ],
   "source": [
    "dir(x)"
   ]
  },
  {
   "cell_type": "code",
   "execution_count": 49,
   "metadata": {},
   "outputs": [],
   "source": [
    "def test_function():\n",
    "    print(x)"
   ]
  },
  {
   "cell_type": "code",
   "execution_count": 50,
   "metadata": {},
   "outputs": [
    {
     "name": "stdout",
     "output_type": "stream",
     "text": [
      "[1.59237657 1.64354258 4.4269018  4.52160892 3.08306699 4.99018769\n",
      " 4.2433805  2.66881433 4.00916361 3.98806032 3.44878836 3.91713527\n",
      " 3.12801313 2.04565508 1.0270813  4.86819612 3.9892273  2.30150967\n",
      " 3.6050835  2.6112314  3.15238807 2.43840087 2.21686466 3.58650014\n",
      " 3.65326058 2.55441195 4.17926955 1.90343235 2.81467025 1.61169858\n",
      " 1.92464782 4.46093081 1.4359328  4.21458546 1.7230883  2.23357072\n",
      " 4.35921348 2.6760486  4.53118633 3.8729552  4.40571642 2.90738531\n",
      " 3.60799502 1.18598608 1.34782166 3.87309298 1.00659627 3.32524572\n",
      " 4.46224711 4.66386803 1.19916271 3.59978625 3.08206815 3.19000922\n",
      " 4.85665916 3.22172384 3.83947203 3.42857461 2.77936096 4.26067387\n",
      " 1.36718797 2.13583723 4.51636972 1.63579249 2.79901408 4.388058\n",
      " 1.83823073 3.11522165 4.72781001 1.49962984 3.20779907 3.15708591\n",
      " 4.5167607  2.98028101 1.51314375 3.16620368 1.8751102  1.334161\n",
      " 3.03829113 2.80319142 2.95653883 2.05069719 2.85434186 1.96881515\n",
      " 3.63235894 1.46179437 4.47363695 3.87440498 2.18786962 1.06930313\n",
      " 3.17105014 3.55688888 4.25252269 2.06569779 1.14809084 2.762547\n",
      " 1.59871466 2.03343711 1.81603252 4.95677154 2.68914317 4.65033684\n",
      " 1.55201832 4.8094937  1.45296507 3.68242646 1.76259945 4.17289629\n",
      " 4.63728445 4.89947859 1.34353978 2.12125339 1.47932832 4.66961075\n",
      " 2.00431444 4.05421876 3.27044695 4.20926296 3.09511679 2.55538575\n",
      " 2.77086473 3.91959137 1.18203331 2.62304525 4.72276621 1.90365497\n",
      " 4.63830446 3.25275827 1.03277604 4.19650848 2.75886258 3.11611823\n",
      " 4.57272431 1.48931586 1.30190151 4.67177381 3.40256413 2.42450567\n",
      " 3.38650185 1.74970283 3.06897922 3.66990894 2.5625985  4.89327092\n",
      " 2.9079552  3.75215802 3.71625712 2.98222479 2.88214839 1.7330503\n",
      " 3.87017181 4.19771789 2.13567184 2.68081612 1.1880183  2.40876736\n",
      " 1.70099927 4.44272978 1.56965575 3.01272312 4.65397684 2.19378525\n",
      " 4.81606717 3.46416009 1.80059649 4.42466728 4.82447477 1.62918063\n",
      " 4.43585288 4.7015574  1.58125166 4.19243078 4.70609728 4.07218795\n",
      " 4.68738282 3.44169812 3.1338812  1.43534258 3.24799763 3.69668435\n",
      " 3.47472004 4.44239609 3.18421109 4.29861025 3.66640997 2.87787377\n",
      " 1.40195891 1.38739013 3.61354682 1.00422592 2.69508182 3.31412562\n",
      " 3.11410993 1.58243592 1.05697473 1.67858921 2.19506895 3.31715649\n",
      " 3.72653298 3.78610405]\n"
     ]
    }
   ],
   "source": [
    "test_function()"
   ]
  },
  {
   "cell_type": "code",
   "execution_count": 76,
   "metadata": {},
   "outputs": [],
   "source": [
    "def other_test_function(x):\n",
    "    variable = 0\n",
    "    print(variable)\n",
    "    for i in range(1, 11):\n",
    "        print(i)"
   ]
  },
  {
   "cell_type": "code",
   "execution_count": 77,
   "metadata": {},
   "outputs": [
    {
     "name": "stdout",
     "output_type": "stream",
     "text": [
      "0\n",
      "1\n",
      "2\n",
      "3\n",
      "4\n",
      "5\n",
      "6\n",
      "7\n",
      "8\n",
      "9\n",
      "10\n"
     ]
    }
   ],
   "source": [
    "other_test_function(\"Pesho\")"
   ]
  },
  {
   "cell_type": "code",
   "execution_count": 56,
   "metadata": {},
   "outputs": [
    {
     "ename": "NameError",
     "evalue": "name 'variable' is not defined",
     "output_type": "error",
     "traceback": [
      "\u001b[1;31m---------------------------------------------------------------------------\u001b[0m",
      "\u001b[1;31mNameError\u001b[0m                                 Traceback (most recent call last)",
      "\u001b[1;32m<ipython-input-56-1748287bc46a>\u001b[0m in \u001b[0;36m<module>\u001b[1;34m\u001b[0m\n\u001b[1;32m----> 1\u001b[1;33m \u001b[0mvariable\u001b[0m\u001b[1;33m\u001b[0m\u001b[1;33m\u001b[0m\u001b[0m\n\u001b[0m",
      "\u001b[1;31mNameError\u001b[0m: name 'variable' is not defined"
     ]
    }
   ],
   "source": [
    "variable"
   ]
  },
  {
   "cell_type": "code",
   "execution_count": null,
   "metadata": {},
   "outputs": [],
   "source": [
    "# Make the image grayscale for faster processing\n",
    "# TODO: Make sure that the image is of type int or byte\n",
    "gray_image = image.mean(axis = 2)"
   ]
  },
  {
   "cell_type": "code",
   "execution_count": 82,
   "metadata": {},
   "outputs": [],
   "source": [
    "model = LinearRegression()"
   ]
  },
  {
   "cell_type": "code",
   "execution_count": 83,
   "metadata": {},
   "outputs": [
    {
     "data": {
      "text/plain": [
       "['__abstractmethods__',\n",
       " '__class__',\n",
       " '__delattr__',\n",
       " '__dict__',\n",
       " '__dir__',\n",
       " '__doc__',\n",
       " '__eq__',\n",
       " '__format__',\n",
       " '__ge__',\n",
       " '__getattribute__',\n",
       " '__getstate__',\n",
       " '__gt__',\n",
       " '__hash__',\n",
       " '__init__',\n",
       " '__init_subclass__',\n",
       " '__le__',\n",
       " '__lt__',\n",
       " '__module__',\n",
       " '__ne__',\n",
       " '__new__',\n",
       " '__reduce__',\n",
       " '__reduce_ex__',\n",
       " '__repr__',\n",
       " '__setattr__',\n",
       " '__setstate__',\n",
       " '__sizeof__',\n",
       " '__str__',\n",
       " '__subclasshook__',\n",
       " '__weakref__',\n",
       " '_abc_impl',\n",
       " '_decision_function',\n",
       " '_estimator_type',\n",
       " '_get_param_names',\n",
       " '_get_tags',\n",
       " '_more_tags',\n",
       " '_preprocess_data',\n",
       " '_set_intercept',\n",
       " 'copy_X',\n",
       " 'fit',\n",
       " 'fit_intercept',\n",
       " 'get_params',\n",
       " 'n_jobs',\n",
       " 'normalize',\n",
       " 'predict',\n",
       " 'score',\n",
       " 'set_params']"
      ]
     },
     "execution_count": 83,
     "metadata": {},
     "output_type": "execute_result"
    }
   ],
   "source": [
    "dir(model)"
   ]
  },
  {
   "cell_type": "code",
   "execution_count": 86,
   "metadata": {},
   "outputs": [],
   "source": [
    "df = pd.DataFrame({\"a\": [1, 2], \"b\": [3, 4]})"
   ]
  },
  {
   "cell_type": "code",
   "execution_count": 87,
   "metadata": {},
   "outputs": [
    {
     "data": {
      "text/html": [
       "<div>\n",
       "<style scoped>\n",
       "    .dataframe tbody tr th:only-of-type {\n",
       "        vertical-align: middle;\n",
       "    }\n",
       "\n",
       "    .dataframe tbody tr th {\n",
       "        vertical-align: top;\n",
       "    }\n",
       "\n",
       "    .dataframe thead th {\n",
       "        text-align: right;\n",
       "    }\n",
       "</style>\n",
       "<table border=\"1\" class=\"dataframe\">\n",
       "  <thead>\n",
       "    <tr style=\"text-align: right;\">\n",
       "      <th></th>\n",
       "      <th>a</th>\n",
       "      <th>b</th>\n",
       "    </tr>\n",
       "  </thead>\n",
       "  <tbody>\n",
       "    <tr>\n",
       "      <th>0</th>\n",
       "      <td>1</td>\n",
       "      <td>3</td>\n",
       "    </tr>\n",
       "    <tr>\n",
       "      <th>1</th>\n",
       "      <td>2</td>\n",
       "      <td>4</td>\n",
       "    </tr>\n",
       "  </tbody>\n",
       "</table>\n",
       "</div>"
      ],
      "text/plain": [
       "   a  b\n",
       "0  1  3\n",
       "1  2  4"
      ]
     },
     "execution_count": 87,
     "metadata": {},
     "output_type": "execute_result"
    }
   ],
   "source": [
    "df"
   ]
  },
  {
   "cell_type": "code",
   "execution_count": 92,
   "metadata": {},
   "outputs": [],
   "source": [
    "def sum_numbers(a, b):\n",
    "    return a + b\n",
    "\n",
    "def test_sum_with_zeros():\n",
    "    # Arrange\n",
    "    a = 0\n",
    "    b = 0\n",
    "    \n",
    "    # Act\n",
    "    result = sum_numbers(a, b)\n",
    "    \n",
    "    # Assert\n",
    "    assert result == 0\n",
    "    \n",
    "test_sum_with_zeros()"
   ]
  },
  {
   "cell_type": "code",
   "execution_count": 93,
   "metadata": {},
   "outputs": [],
   "source": [
    "def test_sum_with_negative_numbers():\n",
    "    # Arrange\n",
    "    a = -20\n",
    "    b = -22\n",
    "    \n",
    "    # Act\n",
    "    result = sum_numbers(a, b)\n",
    "    \n",
    "    # Assert\n",
    "    assert result == -42"
   ]
  },
  {
   "cell_type": "code",
   "execution_count": 94,
   "metadata": {},
   "outputs": [],
   "source": [
    "test_sum_with_negative_numbers()"
   ]
  },
  {
   "cell_type": "code",
   "execution_count": null,
   "metadata": {},
   "outputs": [],
   "source": []
  }
 ],
 "metadata": {
  "kernelspec": {
   "display_name": "Python 3",
   "language": "python",
   "name": "python3"
  },
  "language_info": {
   "codemirror_mode": {
    "name": "ipython",
    "version": 3
   },
   "file_extension": ".py",
   "mimetype": "text/x-python",
   "name": "python",
   "nbconvert_exporter": "python",
   "pygments_lexer": "ipython3",
   "version": "3.7.7"
  }
 },
 "nbformat": 4,
 "nbformat_minor": 4
}
